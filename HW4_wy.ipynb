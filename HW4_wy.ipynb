{
  "nbformat": 4,
  "nbformat_minor": 0,
  "metadata": {
    "colab": {
      "provenance": [],
      "collapsed_sections": [
        "P5AP5Bk3WfgM"
      ]
    },
    "kernelspec": {
      "name": "python3",
      "display_name": "Python 3"
    },
    "language_info": {
      "name": "python"
    }
  },
  "cells": [
    {
      "cell_type": "markdown",
      "source": [
        "Assinment 4 - Weihong Yang "
      ],
      "metadata": {
        "id": "RlMHaC8KfXpY"
      }
    },
    {
      "cell_type": "code",
      "source": [
        "import numpy as np\n",
        "import matplotlib.pylab as plt\n",
        "\n",
        "%matplotlib inline\n",
        "\n",
        "!wc f150_motor_distributors.txt\n",
        "data = np.loadtxt('f150_motor_distributors.txt', delimiter=',', dtype=None)"
      ],
      "metadata": {
        "colab": {
          "base_uri": "https://localhost:8080/",
          "height": 0
        },
        "id": "XFV8ClpgtS41",
        "outputId": "aa1022b1-6119-4562-a97c-ea306e9439b6"
      },
      "execution_count": 148,
      "outputs": [
        {
          "output_type": "stream",
          "name": "stdout",
          "text": [
            "  5000   5000 255541 f150_motor_distributors.txt\n"
          ]
        }
      ]
    },
    {
      "cell_type": "markdown",
      "source": [
        "## Question 1 "
      ],
      "metadata": {
        "id": "hjijAeBLdZzN"
      }
    },
    {
      "cell_type": "markdown",
      "source": [
        "### Quesntion 1a\n",
        "Implement a simple k-means algorithm:"
      ],
      "metadata": {
        "id": "hq6loF4xWRm-"
      }
    },
    {
      "cell_type": "code",
      "source": [
        "# Define the initial centroids\n",
        "centroids = np.array([[10, 10], [-10, -10], [2, 2], [3, 3], [-3, -3]])\n",
        "\n",
        "# Define the number of clusters\n",
        "k = centroids.shape[0]\n",
        "\n",
        "# Number of iterations\n",
        "max_iter = 100"
      ],
      "metadata": {
        "id": "ASqgufmWbcCU"
      },
      "execution_count": 149,
      "outputs": []
    },
    {
      "cell_type": "code",
      "source": [
        "# Store the cluster assignments for each data point\n",
        "clusters = np.zeros(len(data))\n",
        "\n",
        "# Store the sum of squared distances from each data point to its closest centroid\n",
        "sse = np.zeros(max_iter)\n",
        "\n"
      ],
      "metadata": {
        "id": "A9ylValkbfp6"
      },
      "execution_count": 150,
      "outputs": []
    },
    {
      "cell_type": "code",
      "source": [
        "# K-Means algorithm\n",
        "for i in range(max_iter):\n",
        "    # Assign each data point to the closest centroid\n",
        "    for j, x in enumerate(data):\n",
        "        distances = np.linalg.norm(x - centroids, axis=1)\n",
        "        clusters[j] = np.argmin(distances)\n",
        "        \n",
        "    # Update the centroids\n",
        "    for k in range(5):\n",
        "        centroids[k] = np.mean(data[clusters == k], axis=0)\n",
        "        \n",
        "    # Calculate the sum of squared distances from each data point to its closest centroid\n",
        "    for j, x in enumerate(data):\n",
        "        sse[i] += np.linalg.norm(x - centroids[int(clusters[j])]) ** 2\n"
      ],
      "metadata": {
        "id": "hOXBkexnbpv9"
      },
      "execution_count": 74,
      "outputs": []
    },
    {
      "cell_type": "markdown",
      "source": [
        "### Quesntion 1b\n",
        "Scatter the results use matplotlib’s pyplot functionality:"
      ],
      "metadata": {
        "id": "NQ3gfllpWXpv"
      }
    },
    {
      "cell_type": "code",
      "source": [
        "# Plot the results\n",
        "colors = ['b', 'g', 'r', 'c', 'm']\n",
        "\n",
        "for k in range(5):\n",
        "    x = data[clusters == k][:, 0]\n",
        "    y = data[clusters == k][:, 1]\n",
        "    plt.scatter(x, y, c=colors[k])\n",
        "\n",
        "plt.title(\"K-Means Clustering\")\n",
        "plt.xlabel('Timing Speed')\n",
        "plt.ylabel('Coil Gaps') \n",
        "\n",
        "plt.show()"
      ],
      "metadata": {
        "colab": {
          "base_uri": "https://localhost:8080/",
          "height": 295
        },
        "id": "gbieoA9ybhJb",
        "outputId": "bf1717e5-0bcc-4834-8dcd-527214386978"
      },
      "execution_count": 75,
      "outputs": [
        {
          "output_type": "display_data",
          "data": {
            "text/plain": [
              "<Figure size 432x288 with 1 Axes>"
            ],
            "image/png": "[encoded data removed]"
          },
          "metadata": {
            "needs_background": "light"
          }
        }
      ]
    },
    {
      "cell_type": "markdown",
      "source": [
        "### Quesntion 1c\n",
        "\n",
        "Why is k = 5 a logical choice for this dataset? After plotting your resulting clusters, what do you notice? Did it cluster very well? Is there an initialization that would make it cluster well?"
      ],
      "metadata": {
        "id": "zawB1ZpiWdV6"
      }
    },
    {
      "cell_type": "markdown",
      "source": [
        " **Answer:**\n",
        " \n",
        "The choice of k=5 for the number of clusters in this dataset is a logical choice because there are five years of data in the dataset, and the objective is to identify any patterns or relationships between the timing speed and ignition coil gaps for each year.\n",
        "\n",
        "After plotting the results, it can be seen that the algorithm did not cluster very well, since the data points are not well-separated or the clusters are not distinct. The reasons could be the choice of initialization and the number of iterations. A different initialization or a higher number of iterations may lead to better clustering.\n",
        "\n",
        "\n",
        "The initialization of the centroids can have a significant impact on the performance of the K-Means algorithm to ensure that the algorithm converges to a global minimum. Otherwise, the algorithm may converge to a local minimum and produce suboptimal results. \n",
        "\n",
        "One way to improve the initialization is to use a different method, such as k-means++, which is an enhanced version of the k-means algorithm that chooses the initial centroids in a more effective and efficient manner. Another way is to run the k-means algorithm multiple times with different initial centroids and choose the best solution based on the sum of squared distances or some other evaluation metric."
      ],
      "metadata": {
        "id": "P5AP5Bk3WfgM"
      }
    },
    {
      "cell_type": "markdown",
      "source": [
        "## Question 2 "
      ],
      "metadata": {
        "id": "Ro_AzrAWdkzL"
      }
    },
    {
      "cell_type": "markdown",
      "source": [
        "### Question 2a\n",
        "\n",
        "Implementing Specialized K-Means with Mahalanobis Distance:"
      ],
      "metadata": {
        "id": "vFnhIXJB3m3-"
      }
    },
    {
      "cell_type": "code",
      "source": [
        "# Initialize the centroids\n",
        "centroids = np.array([[10, 10], [-10, -10], [2, 2], [3, 3], [-3, -3]])\n",
        "\n",
        "# Define the number of clusters\n",
        "k = centroids.shape[0]\n",
        "\n",
        "# Pre-compute the inverse of P\n",
        "P = np.array([[10, 0.5], [-10, 0.25]])\n",
        "P_inv = np.linalg.inv(P)\n",
        "\n",
        "# Compute P.T * P and its inverse\n",
        "P_T_P = np.dot(P.T, P)\n",
        "P_T_P_inv = np.linalg.inv(P_T_P)\n",
        "\n",
        "# Number of iterations\n",
        "max_iter = 100\n",
        "\n",
        "# Store the cluster assignments for each data point\n",
        "clusters = np.zeros(len(data))\n",
        "\n",
        "# Store the sum of squared distances from each data point to its closest centroid\n",
        "sse = np.zeros(max_iter)"
      ],
      "metadata": {
        "id": "SsLo-Wd1ge8L"
      },
      "execution_count": 152,
      "outputs": []
    },
    {
      "cell_type": "code",
      "source": [
        "# Define the Mahalanobis distance function\n",
        "def mahalanobis_distance(x, y, P_inv):\n",
        "    diff = x - y\n",
        "    return np.sqrt(np.dot(diff.T, np.dot(P_inv, diff)))"
      ],
      "metadata": {
        "id": "jYXPdLaugwmX"
      },
      "execution_count": 115,
      "outputs": []
    },
    {
      "cell_type": "code",
      "source": [
        "# K-Means algorithm with the Mahalanobis Distance\n",
        "for i in range(max_iter):\n",
        "    # Assign each data point to the closest centroid\n",
        "    for j, x in enumerate(data):\n",
        "        distances = np.zeros(k)\n",
        "        for l in range(k):\n",
        "            y = centroids[l]\n",
        "            distances[l] = np.dot(np.dot((x - y), P_inv), (x - y))\n",
        "        clusters[j] = np.argmin(distances)\n",
        "        \n",
        "    # Update the centroids\n",
        "    for k in range(5):\n",
        "        centroids[k] = np.mean(data[clusters == k], axis=0)\n",
        "        \n",
        "    # Calculate the sum of squared distances from each data point to its closest centroid\n",
        "    for j, x in enumerate(data):\n",
        "        sse[i] += np.linalg.norm(x - centroids[int(clusters[j])]) ** 2  "
      ],
      "metadata": {
        "id": "eRSEqF0Dh1Hn"
      },
      "execution_count": 153,
      "outputs": []
    },
    {
      "cell_type": "code",
      "source": [
        "# Plot the results\n",
        "colors = ['b', 'g', 'r', 'c', 'm']\n",
        "for k in range(5):\n",
        "    x = data[clusters == k][:, 0]\n",
        "    y = data[clusters == k][:, 1]\n",
        "    plt.scatter(x, y, c=colors[k])\n",
        "\n",
        "plt.title(\"K-Means Clustering using Mahalanobis Distance\")\n",
        "plt.xlabel('Timing Speed')\n",
        "plt.ylabel('Coil Gaps')\n",
        "\n",
        "plt.show()"
      ],
      "metadata": {
        "colab": {
          "base_uri": "https://localhost:8080/",
          "height": 295
        },
        "id": "t557_DDxh52Q",
        "outputId": "3df15e23-8439-4539-ace7-7bdb6ff6bd9f"
      },
      "execution_count": 154,
      "outputs": [
        {
          "output_type": "display_data",
          "data": {
            "text/plain": [
              "<Figure size 432x288 with 1 Axes>"
            ],
            "image/png": "[encoded data removed]"
          },
          "metadata": {
            "needs_background": "light"
          }
        }
      ]
    },
    {
      "cell_type": "markdown",
      "source": [
        "The scatter plot of the results may show that the data points are divided into different clusters with different colors, indicating that the Mahalanobis Distance has effectively captured the relationships between the timing speed and ignition coil gaps."
      ],
      "metadata": {
        "id": "HqoJ6MuRnhYP"
      }
    },
    {
      "cell_type": "markdown",
      "source": [
        "### Question 2b \n",
        "\n",
        "Calculating the Principal Components:"
      ],
      "metadata": {
        "id": "SAO3ANYGenpC"
      }
    },
    {
      "cell_type": "code",
      "source": [
        "# Calculate and print out the principle components of the aggregate data\n",
        "mean = np.mean(data, axis=0)\n",
        "cov = np.cov(data.T)\n",
        "eigen_values, eigen_vectors = np.linalg.eig(cov)\n",
        "print(\"Principal Components of the Aggregate Data:\")\n",
        "print(\"Eigen Values:\", eigen_values)\n",
        "print(\"Eigen Vectors:\", eigen_vectors)\n",
        "\n"
      ],
      "metadata": {
        "id": "P4KOcjYynxI7",
        "colab": {
          "base_uri": "https://localhost:8080/",
          "height": 0
        },
        "outputId": "cfaf2248-6272-4492-d9f9-329c02f23398"
      },
      "execution_count": 144,
      "outputs": [
        {
          "output_type": "stream",
          "name": "stdout",
          "text": [
            "Principal Components of the Aggregate Data:\n",
            "Eigen Values: [322.50713273  17.38845582]\n",
            "Eigen Vectors: [[ 0.99838317  0.05684225]\n",
            " [-0.05684225  0.99838317]]\n"
          ]
        }
      ]
    },
    {
      "cell_type": "markdown",
      "source": [
        "### Question 2c \n",
        "Calculate the principle components of each cluster:"
      ],
      "metadata": {
        "id": "5m5-65yqe4Ro"
      }
    },
    {
      "cell_type": "code",
      "source": [
        "# Calculate and print out the principle components of each cluster \n",
        "for i in range(5):\n",
        "    cluster_data = data[clusters == i]\n",
        "    \n",
        "    # Check if the cluster has more than one data point\n",
        "    if cluster_data.shape[0] > 1:\n",
        "        # Compute the covariance matrix\n",
        "        cluster_cov = np.cov(cluster_data.T)\n",
        "        \n",
        "        # Check if the covariance matrix is well-defined (not NaN or inf)\n",
        "        if np.isfinite(cluster_cov).all():\n",
        "            # Compute the eigenvalues and eigenvectors of the covariance matrix\n",
        "            cluster_eigen_values, cluster_eigen_vectors = np.linalg.eig(cluster_cov)\n",
        "            \n",
        "            print(\"Principal Components of Cluster\", i + 1)\n",
        "            print(\"Eigen Values:\", cluster_eigen_values)\n",
        "            print(\"Eigen Vectors:\", cluster_eigen_vectors)\n",
        "        else:\n",
        "            print(\"Covariance matrix for Cluster\", i + 1, \"is not well-defined.\")\n",
        "    else:\n",
        "        print(\"Cluster\", i + 1, \"must have more than one data point to compute the covariance matrix.\")\n"
      ],
      "metadata": {
        "colab": {
          "base_uri": "https://localhost:8080/",
          "height": 0
        },
        "id": "Wf7KByiO3xL1",
        "outputId": "3487fff0-d6c4-447a-a4ad-9aa14346743f"
      },
      "execution_count": 174,
      "outputs": [
        {
          "output_type": "stream",
          "name": "stdout",
          "text": [
            "Principal Components of Cluster 1\n",
            "Eigen Values: [182.17872824   0.95683822]\n",
            "Eigen Vectors: [[ 0.99692635  0.07834442]\n",
            " [-0.07834442  0.99692635]]\n",
            "Principal Components of Cluster 2\n",
            "Eigen Values: [72.35638155  3.67988351]\n",
            "Eigen Vectors: [[ 0.99503198  0.09955583]\n",
            " [-0.09955583  0.99503198]]\n",
            "Principal Components of Cluster 3\n",
            "Eigen Values: [127.2007039    8.49133428]\n",
            "Eigen Vectors: [[ 0.99988673 -0.01505103]\n",
            " [ 0.01505103  0.99988673]]\n",
            "Principal Components of Cluster 4\n",
            "Eigen Values: [130.89824623   3.79504172]\n",
            "Eigen Vectors: [[ 0.9981861   0.06020388]\n",
            " [-0.06020388  0.9981861 ]]\n",
            "Cluster 5 must have more than one data point to compute the covariance matrix.\n"
          ]
        }
      ]
    },
    {
      "cell_type": "markdown",
      "source": [
        "The results may show that the principle components of each cluster are different from the aggregate data and from each other, suggesting that the relationships between the timing speed and ignition coil gaps are different in each cluster.\n",
        "\n",
        "In conclusion, the specialized K-Means algorithm with the Mahalanobis Distance and the calculation of the principal components provide valuable insights into the relationships between the timing speed and ignition coil gaps in the F150 engine components. The results may vary depending on the implementation and the random initialization of the centroids, but the general idea is to show the usefulness of this approach in analyzing the data."
      ],
      "metadata": {
        "id": "-y63jSXln-DG"
      }
    },
    {
      "cell_type": "markdown",
      "source": [
        "### Question 2d\n",
        "Calculate a new P', and the relationship between P′ and the data:\n"
      ],
      "metadata": {
        "id": "cPEZhT1mfCaU"
      }
    },
    {
      "cell_type": "code",
      "source": [
        "# Eigenvalue / Eigenvector Decomposition of P^T\n",
        "eigenvalues, eigenvectors = np.linalg.eig(P.T)\n",
        "\n",
        "# Calculate P'\n",
        "Lambda = np.diag(eigenvalues)\n",
        "Phi = eigenvectors\n",
        "P_prime = np.dot(Lambda, Phi)\n",
        "\n",
        "# Print the result\n",
        "print(\"Original matrix P:\")\n",
        "print(P)\n",
        "\n",
        "print(\"New matrix P':\")\n",
        "print(P_prime)"
      ],
      "metadata": {
        "colab": {
          "base_uri": "https://localhost:8080/",
          "height": 0
        },
        "id": "tNsTO-hefAY2",
        "outputId": "5167ab54-d74c-4072-da8f-937747853780"
      },
      "execution_count": 68,
      "outputs": [
        {
          "output_type": "stream",
          "name": "stdout",
          "text": [
            "Original matrix P:\n",
            "[[ 10.     0.5 ]\n",
            " [-10.     0.25]]\n",
            "New matrix P':\n",
            "[[9.44301625 6.95724558]\n",
            " [0.04300577 0.53717161]]\n"
          ]
        }
      ]
    },
    {
      "cell_type": "markdown",
      "source": [
        "The matrix P' obtained through eigenvector/eigenvalue decomposition and matrix multiplication is a linear transformation of the original data matrix P that extracts the most important features or principal components of the data. The matrix Φ contains the eigenvectors, which capture the most variation in the data, and the diagonal matrix Λ contains the corresponding eigenvalues. By multiplying P by Φ and then by Λ, P' = ΛΦ, the data matrix is rotated and scaled to align with the eigenvectors and represent the principal components. \n",
        "\n",
        "The eigenvalues Λ are scalars and represent the magnitude of the transformation represented by the matrix. The eigenvectors Φ are vectors and represent the direction of the transformation. The product of the eigenvalues and eigenvectors, i.e., ΛΦ, gives us a new matrix P′."
      ],
      "metadata": {
        "id": "bxAEdsFx82PY"
      }
    },
    {
      "cell_type": "markdown",
      "source": [
        "The relationship between P' and the data can be understood by considering how the Mahalanobis Distance is calculated. The Mahalanobis Distance measures the distance between two data points in a transformed space where the covariance matrix is equal to the identity matrix, i.e. a space where the data is uncorrelated. The transformation is achieved by multiplying the data with the inverse of the square root of the covariance matrix. In this case, P^T · P represents the covariance matrix and (P^T · P)^-1 represents its inverse.\n",
        "\n",
        "The eigenvector/eigenvalue decomposition of P^T provides an alternative way of finding the inverse square root of the covariance matrix, by transforming the data with the matrix ΛΦ. In this transformed space, the covariance matrix is equal to Λ, which is a diagonal matrix with the eigenvalues on the diagonal. The inverse square root of a diagonal matrix is simply a matrix with the inverse square roots of the diagonal elements.\n",
        "\n",
        "Therefore, the relationship between P' and the data is that P' represents the transformed data in a space where the covariance matrix is equal to Λ, and the Mahalanobis Distance is calculated as the Euclidean Distance in this space."
      ],
      "metadata": {
        "id": "SDvIodiB8UJ7"
      }
    },
    {
      "cell_type": "markdown",
      "source": [
        "## Question 3"
      ],
      "metadata": {
        "id": "YyxqQ-3M6jD8"
      }
    },
    {
      "cell_type": "markdown",
      "source": [
        "### Question 3a\n",
        "List all candidate 4-itemsets obtained by a candidate generation\n",
        "procedure using the F_(k−1) × (F_1) merging strategy:"
      ],
      "metadata": {
        "id": "8wbATCLh5Xyi"
      }
    },
    {
      "cell_type": "markdown",
      "source": [
        "Step 1: \n",
        "Write down all frequent 3-itemsets:\n",
        "- {1, 2, 3}, {1, 2, 4}, {1, 2, 5}, {1, 3, 4},{2, 3, 4}, {2, 3, 5}, {3, 4, 5}\n",
        "\n",
        "Step 2: \n",
        "For each frequent 3-itemset, add each item in the data set to the set and form a candidate 4-itemset:\n",
        "- {1, 2, 3, 4}, {1, 2, 3, 5}, {1, 2, 4, 5}, {1, 3, 4, 5}, {2, 3, 4, 5}\n",
        "\n",
        "Step 3: \n",
        "So, **the obtained candidate 4-itemsets are:**\n",
        "\n",
        "- **{1, 2, 3, 4}, {1, 2, 3, 5}, {1, 2, 4, 5}, {1, 3, 4, 5}, {2, 3, 4, 5}**"
      ],
      "metadata": {
        "id": "iJVM_V9G5YKj"
      }
    },
    {
      "cell_type": "markdown",
      "source": [
        "### Question 3b\n",
        "List all candidate 4-itemsets obtained by the candidate generation\n",
        "procedure in A Priori, using F_(k−1) × F_(k−1):"
      ],
      "metadata": {
        "id": "j8XmGCUu5YNh"
      }
    },
    {
      "cell_type": "markdown",
      "source": [
        "Step 1: Write down all frequent 3-itemsets:\n",
        "\n",
        "- {1, 2, 3}, {1, 2, 4}, {1, 2, 5}, {1, 3, 4},{2, 3, 4}, {2, 3, 5}, {3, 4, 5}\n",
        "\n",
        "\n",
        "Step 2: Take all possible combinations of two frequent 3-itemsets:\n",
        "\n",
        "- {1, 2, 3, 4} = {1, 2, 3} ∪ {1, 2, 4}\n",
        "- {1, 2, 3, 5} = {1, 2, 3} ∪ {1, 2, 5}\n",
        "- {1, 2, 4, 5} = {1, 2, 4} ∪ {1, 2, 5}\n",
        "- {1, 3, 4, 5} = {1, 3, 4} ∪ {1, 3, 5}\n",
        "- {2, 3, 4, 5} = {2, 3, 4} ∪ {2, 3, 5}\n",
        "\n",
        "Step 3: So, **the Candidate 4-itemsets in A Priori are:**\n",
        "\n",
        "- **{1, 2, 3, 4}, {1, 2, 3, 5}, {1, 2, 4, 5}, {1, 3, 4, 5}, {2, 3, 4, 5}**"
      ],
      "metadata": {
        "id": "uAEBM1Di5YQv"
      }
    },
    {
      "cell_type": "markdown",
      "source": [
        "### Question 3c\n",
        "List all candidate 4-itemsets that survive the candidate pruning step\n",
        "of the Apriori algorithm:"
      ],
      "metadata": {
        "id": "kCUeJEik5YUC"
      }
    },
    {
      "cell_type": "markdown",
      "source": [
        "Step 1: Write down all candidate 4-itemsets obtained in 3b:\n",
        "\n",
        "- {1, 2, 3, 4},  {1, 2, 3, 5}, {1, 2, 4, 5}, {1, 3, 4, 5}, {2, 3, 4, 5}\n",
        "\n",
        "\n",
        "Step 2: For each candidate 4-itemset, check if all its subsets (of size 3) are frequent.\n",
        "\n",
        "- {1, 2, 3, 4}: All subsets {1, 2, 3}, {1, 2, 4}, {1, 3, 4}, {2, 3, 4} are frequent. So, this candidate 4-itemset survives.\n",
        "\n",
        "- {1, 2, 3, 5}: Subsets {1, 2, 3}, {1, 2, 5}, {2, 3, 5} are frequent. However, the subset {1, 3, 5} is not frequent, so pruned.\n",
        "\n",
        "- {1, 2, 4, 5}: Subsets {1, 2, 4}, {1, 2, 5} are frequent. However, the subsets {1, 4, 5} , {2, 4, 5} are not frequent, so pruned.\n",
        "\n",
        "- {1, 3, 4, 5}: Subsets {1, 3, 4}, {3, 4, 5} are frequent. However, the subsets {1, 3, 5}, {1, 4, 5} are not frequent, so pruned.\n",
        "\n",
        "- {2, 3, 4, 5}: Subsets {2, 3, 4}, {3, 4, 5}, {2, 3, 5} are frequent. However, the subset {2, 4, 5} is not frequent, so pruned.\n",
        "\n",
        "Step 3: So, **the Surviving Candidate 4-itemsets is:**\n",
        "\n",
        "- **{1, 2, 3, 4}**"
      ],
      "metadata": {
        "id": "byEA6Pc1uf-3"
      }
    },
    {
      "cell_type": "markdown",
      "source": [
        "## Question 4"
      ],
      "metadata": {
        "id": "5asmc5xB7PKc"
      }
    },
    {
      "cell_type": "markdown",
      "source": [
        "### Question 4a\n",
        "The maximum number of association rules that can be extracted from this data: "
      ],
      "metadata": {
        "id": "Q4U0cO_-5YaH"
      }
    },
    {
      "cell_type": "markdown",
      "source": [
        "Items = {Bread, Butter, Milk, Beer, Cookies, Diapers, Eggs}\n",
        "\n",
        "There are 7 distinct items, so the maximum number of association rules is: \n",
        "\n",
        "**Number of Association Rules = 3^d - 2^(d+1) + 1 = 1932**"
      ],
      "metadata": {
        "id": "HWL-RoIo5Yc4"
      }
    },
    {
      "cell_type": "markdown",
      "source": [
        "### Question 4b\n",
        "The confidence of the rule {Milk, Diapers} ⇒ {Butter}:"
      ],
      "metadata": {
        "id": "zJfQujs95YgA"
      }
    },
    {
      "cell_type": "markdown",
      "source": [
        "The confidence of the rule {Milk, Diapers} ⇒ {Butter} is the ratio of the number of transactions that contain both {Milk, Diapers, Butter} to the number of transactions that contain {Milk, Diapers}. \n",
        "\n",
        "There are 2 transactions contain {Milk, Diapers, Butter}.(transactions 2, and 7)).\n",
        "\n",
        "There are 4 transactions contain {Milk, Diapers}. (transactions 2, 3, 5, and 7)\n",
        "\n",
        "\n",
        "So, **the Confidence of the rule {Milk, Diapers} ⇒ {Butter} is 2/4 = 0.5**."
      ],
      "metadata": {
        "id": "k0C8UkqZ7erb"
      }
    },
    {
      "cell_type": "markdown",
      "source": [
        "### Question 4c\n",
        "The support for the rule {Milk, Diapers} ⇒ {Butter}:\n"
      ],
      "metadata": {
        "id": "Y0HF1wxZ7ZFu"
      }
    },
    {
      "cell_type": "markdown",
      "source": [
        "The support for the rule {Milk, Diapers} ⇒ {Butter} is the ratio of the number of transactions that contain {Milk, Diapers, Butter} to the total number of transactions. \n",
        "\n",
        "There are 2 transactions that contain {Milk, Diapers, Butter}, and 10 transactions in total. (transactions 2 and 7). \n",
        "\n",
        "So, **the Support for the rule {Milk, Diapers} ⇒ {Butter} is 2/10 = 0.2**.\n"
      ],
      "metadata": {
        "id": "3e96XivG7ZMN"
      }
    },
    {
      "cell_type": "markdown",
      "source": [
        "### Question 4d\n",
        "True or False with an explanation: Given that {a,b,c,d} is a frequent itemset, {a,b} is always a frequent itemset:\n"
      ],
      "metadata": {
        "id": "DvSU35-v7tGl"
      }
    },
    {
      "cell_type": "markdown",
      "source": [
        "**True**\n",
        "\n",
        "Based on Apriori Principle: \n",
        "\n",
        "If an items is frequent, then all of its subsets must also be frequent.\n",
        "\n",
        "Priori algorithm uses frequent item sets to generate association rules. It is based on the concept that a subset of a frequent items must also be a frequent itemSet.\n"
      ],
      "metadata": {
        "id": "vXRXgLdc7tff"
      }
    },
    {
      "cell_type": "markdown",
      "source": [
        "### Question 4e\n",
        "Given that {a,b}, {b,c} and {a,c} are frequent itemsets, {a,b,c} is always frequent:"
      ],
      "metadata": {
        "id": "iT-iXj3L729C"
      }
    },
    {
      "cell_type": "markdown",
      "source": [
        "**True**\n",
        "\n",
        "if {a,b}, {b,c}, and {a,c} are frequent itemsets, it means that the support of each of these itemsets is above the minimum support threshold. Therefore, the support of {a,b,c}, which is a superset of {a,b}, {b,c}, and {a,c}, must also be above the minimum support threshold and {a,b,c} is frequent."
      ],
      "metadata": {
        "id": "1QSBGZb974ie"
      }
    },
    {
      "cell_type": "markdown",
      "source": [
        "### Question 4f\n",
        "Given that the support of {a,b} is 20 and the support of {b,c} is 30, the support of {b} is larger than 20 but smaller than 30:\n"
      ],
      "metadata": {
        "id": "RjcKasfh74r8"
      }
    },
    {
      "cell_type": "markdown",
      "source": [
        "**False**\n",
        "\n",
        "We cannot determine the support of {b} based on the support of {a,b} and {b,c}. {b} may be present in more transactions than {a,b}, and therefore have a higher support, or it may be present in fewer transactions than {b,c}, and therefore have a lower support.\n"
      ],
      "metadata": {
        "id": "UyyqndFp742a"
      }
    },
    {
      "cell_type": "markdown",
      "source": [
        "### Question 4g\n",
        "In a dataset that has 5 items, the maximum number of size-2 frequent itemsets that can be extracted (assuming minsup > 0) is 20:"
      ],
      "metadata": {
        "id": "TBopMTb18D8C"
      }
    },
    {
      "cell_type": "markdown",
      "source": [
        "**False**\n",
        "\n",
        "The maximum number of size-2 frequent itemsets that can be extracted from a dataset with 5 items is C(5, 2) = 10, where C(n, r) denotes the number of combinations of n items taken r at a time.\n",
        "If every size-2 item is frequent, the max number of frequent would be 10 not 20."
      ],
      "metadata": {
        "id": "S7p-GUJo8EFi"
      }
    },
    {
      "cell_type": "markdown",
      "source": [
        "### Question 4h\n",
        "Draw the itemset lattice for the set of unique items I = {a, b, c}:"
      ],
      "metadata": {
        "id": "NujxNDJ68EMj"
      }
    },
    {
      "cell_type": "code",
      "source": [
        "           { }(0)\n",
        "          /  \t\t\\\n",
        "      {a}(2)   {b}(3)\n",
        "       / \\     \t\t/   \\\n",
        " {a,b}(1){c}(2)    {b,c}(2)\n",
        "     |   \t|       \t|\n",
        " {a,b,c}(1)    \t  {a,c}(1)\n"
      ],
      "metadata": {
        "id": "151iho6cLU6k"
      },
      "execution_count": null,
      "outputs": []
    },
    {
      "cell_type": "markdown",
      "source": [
        "\n",
        "In this lattice, the nodes represent the itemsets, and the edges represent the subset relationship between them. The node at the top represents the empty itemset, denoted by { }. The nodes at the bottom represent the individual items. The node in the middle represents the itemset {a, b}, which is a subset of both {a, b, c} and {a, b}. The node at the bottom represents the itemset {a, b, c}, which is a subset of the empty itemset, {a}, {b}, {c}, {a, b}, {a, c}, and {b, c\n",
        "\n",
        "There are two additional points to note about the itemset lattice:\n",
        "1. Every node in the lattice represents a frequent itemset, since an itemset is frequent if and only if all its subsets are frequent.\n",
        "2. Every edge in the lattice represents a frequent itemset that is a proper subset of the itemset represented by its parent node. In other words, if an itemset is frequent, then all of its proper subsets are also frequent.\n",
        "\n",
        "\n",
        "The number in parentheses after each itemset represents its support in the transaction database. We can see that all frequent itemsets are listed in the lattice, and every edge represents a frequent itemset that is a proper subset of its parent node. We can also see that the support of an itemset decreases as we move down the lattice, reflecting the fact that a larger itemset is less frequent than its subsets.\n"
      ],
      "metadata": {
        "id": "vQKYJim2LizZ"
      }
    }
  ]
}